{
  "nbformat": 4,
  "nbformat_minor": 0,
  "metadata": {
    "colab": {
      "provenance": [],
      "include_colab_link": true
    },
    "kernelspec": {
      "name": "python3",
      "display_name": "Python 3"
    },
    "language_info": {
      "name": "python"
    }
  },
  "cells": [
    {
      "cell_type": "markdown",
      "metadata": {
        "id": "view-in-github",
        "colab_type": "text"
      },
      "source": [
        "<a href=\"https://colab.research.google.com/github/alura-cursos/imersao-python-dados-03-2024/blob/main/%5BImers%C3%A3o_Python%5D_Aula_02.ipynb\" target=\"_parent\"><img src=\"https://colab.research.google.com/assets/colab-badge.svg\" alt=\"Open In Colab\"/></a>"
      ]
    },
    {
      "cell_type": "code",
      "execution_count": null,
      "metadata": {
        "id": "QU4Pg-pxobAK"
      },
      "outputs": [],
      "source": [
        "import pandas as pd"
      ]
    },
    {
      "cell_type": "code",
      "source": [
        "df_principal = pd.read_excel(\"/content/acoes_pura.xlsx\", sheet_name=\"Principal\")\n",
        "df_principal"
      ],
      "metadata": {
        "id": "ysRYrhOHrMi-"
      },
      "execution_count": null,
      "outputs": []
    },
    {
      "cell_type": "code",
      "source": [
        "df_total_acoes = pd.read_excel(\"/content/acoes_pura.xlsx\", sheet_name=\"Total_de_acoes\")\n",
        "df_total_acoes"
      ],
      "metadata": {
        "id": "mWy3x218rUK-"
      },
      "execution_count": null,
      "outputs": []
    },
    {
      "cell_type": "code",
      "source": [
        "df_ticker = pd.read_excel(\"/content/acoes_pura.xlsx\", sheet_name=\"Ticker\")\n",
        "df_ticker"
      ],
      "metadata": {
        "id": "czCb2kUSrXRV"
      },
      "execution_count": null,
      "outputs": []
    },
    {
      "cell_type": "code",
      "source": [
        "df_chatgpt = pd.read_excel(\"/content/acoes_pura.xlsx\", sheet_name=\"Chatgpt\")\n",
        "df_chatgpt"
      ],
      "metadata": {
        "id": "qh1_qfc7rXi1"
      },
      "execution_count": null,
      "outputs": []
    }
  ]
}
